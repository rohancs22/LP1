{
 "cells": [
  {
   "cell_type": "code",
   "execution_count": 1,
   "metadata": {},
   "outputs": [],
   "source": [
    "import os"
   ]
  },
  {
   "cell_type": "code",
   "execution_count": 52,
   "metadata": {},
   "outputs": [
    {
     "data": {
      "text/plain": [
       "[[0, 0, 0, 0], [0, 0, 0, 0], [0, 0, 0, 0], [0, 0, 0, 0]]"
      ]
     },
     "execution_count": 52,
     "metadata": {},
     "output_type": "execute_result"
    }
   ],
   "source": [
    "bol=[]\n",
    "i=0\n",
    "for i in range(0,4):\n",
    "    ls=[]\n",
    "    j=0\n",
    "    for j in range(0,4):\n",
    "        ls.append(0)\n",
    "    bol.append(ls)\n",
    "bol"
   ]
  },
  {
   "cell_type": "code",
   "execution_count": 53,
   "metadata": {},
   "outputs": [
    {
     "data": {
      "text/plain": [
       "[[0, 1, 2, 3], [1, 2, 3, 4], [2, 3, 4, 5], [3, 4, 5, 6]]"
      ]
     },
     "execution_count": 53,
     "metadata": {},
     "output_type": "execute_result"
    }
   ],
   "source": [
    "slcode=[]\n",
    "i=0\n",
    "for i in range(0,4):\n",
    "    ls=[]\n",
    "    j=0\n",
    "    for j in range(0,4):\n",
    "        ls.append(i+j)\n",
    "    slcode.append(ls)\n",
    "slcode"
   ]
  },
  {
   "cell_type": "code",
   "execution_count": 54,
   "metadata": {},
   "outputs": [
    {
     "data": {
      "text/plain": [
       "[[3, 2, 1, 0], [4, 3, 2, 1], [5, 4, 3, 2], [6, 5, 4, 3]]"
      ]
     },
     "execution_count": 54,
     "metadata": {},
     "output_type": "execute_result"
    }
   ],
   "source": [
    "bslcode=[]\n",
    "i=0\n",
    "for i in range(0,4):\n",
    "    ls=[]\n",
    "    j=0\n",
    "    for j in range(0,4):\n",
    "        ls.append(i-j+3)\n",
    "    bslcode.append(ls)\n",
    "bslcode"
   ]
  },
  {
   "cell_type": "code",
   "execution_count": 55,
   "metadata": {},
   "outputs": [
    {
     "data": {
      "text/plain": [
       "[0, 0, 0, 0]"
      ]
     },
     "execution_count": 55,
     "metadata": {},
     "output_type": "execute_result"
    }
   ],
   "source": [
    "rowinfo=[]\n",
    "i=0\n",
    "for i in range(0,4):\n",
    "    rowinfo.append(0)\n",
    "rowinfo"
   ]
  },
  {
   "cell_type": "code",
   "execution_count": 56,
   "metadata": {},
   "outputs": [
    {
     "data": {
      "text/plain": [
       "[0, 0, 0, 0, 0, 0]"
      ]
     },
     "execution_count": 56,
     "metadata": {},
     "output_type": "execute_result"
    }
   ],
   "source": [
    "slup=[]\n",
    "bslup=[]\n",
    "for i in range(0,6):\n",
    "    slup.append(0)\n",
    "    bslup.append(0)\n",
    "slup\n",
    "bslup"
   ]
  },
  {
   "cell_type": "code",
   "execution_count": 57,
   "metadata": {},
   "outputs": [
    {
     "data": {
      "text/plain": [
       "6"
      ]
     },
     "execution_count": 57,
     "metadata": {},
     "output_type": "execute_result"
    }
   ],
   "source": [
    "max(max(slcode))"
   ]
  },
  {
   "cell_type": "code",
   "execution_count": 58,
   "metadata": {},
   "outputs": [],
   "source": [
    "def issafe(row,col):\n",
    "    if(rowinfo[row]==1):\n",
    "        return False\n",
    "    if(slup[slcode[row][col]]==1):\n",
    "        return False\n",
    "    if(bslup[bslcode[row][col]]==1):\n",
    "        return False\n",
    "    return True"
   ]
  },
  {
   "cell_type": "code",
   "execution_count": 59,
   "metadata": {},
   "outputs": [],
   "source": [
    "bol=[]\n",
    "i=0\n",
    "for i in range(0,4):\n",
    "    ls=[]\n",
    "    j=0\n",
    "    for j in range(0,4):\n",
    "        ls.append(0)\n",
    "    bol.append(ls)\n",
    "bol\n",
    "def solve(arr,col):\n",
    "    print(arr)\n",
    "    if(col==4):\n",
    "        return True\n",
    "    row=0\n",
    "    for row in range(4):\n",
    "        if(issafe(row,col)):\n",
    "            arr[row][col]=1\n",
    "            rowinfo[row]=1\n",
    "            slup[slcode[row][col]]=1\n",
    "            bslup[bslcode[row][col]]=1\n",
    "            if(solve(arr,col+1)):\n",
    "                return True\n",
    "            rowinfo[row]=0\n",
    "            slup[slcode[row][col]]=0\n",
    "            bslup[bslcode[row][col]]=0\n",
    "            arr[row][col]=0\n",
    "    return False\n",
    "            "
   ]
  },
  {
   "cell_type": "code",
   "execution_count": 60,
   "metadata": {},
   "outputs": [
    {
     "data": {
      "text/plain": [
       "[[0, 0, 0, 0], [0, 0, 0, 0], [0, 0, 0, 0], [0, 0, 0, 0]]"
      ]
     },
     "execution_count": 60,
     "metadata": {},
     "output_type": "execute_result"
    }
   ],
   "source": [
    "bol"
   ]
  },
  {
   "cell_type": "code",
   "execution_count": 61,
   "metadata": {},
   "outputs": [
    {
     "name": "stdout",
     "output_type": "stream",
     "text": [
      "[[0, 0, 0, 0], [0, 0, 0, 0], [0, 0, 0, 0], [0, 0, 0, 0]]\n",
      "[[1, 0, 0, 0], [0, 0, 0, 0], [0, 0, 0, 0], [0, 0, 0, 0]]\n",
      "[[1, 0, 0, 0], [0, 0, 0, 0], [0, 1, 0, 0], [0, 0, 0, 0]]\n",
      "[[1, 0, 0, 0], [0, 0, 0, 0], [0, 0, 0, 0], [0, 1, 0, 0]]\n",
      "[[1, 0, 0, 0], [0, 0, 1, 0], [0, 0, 0, 0], [0, 1, 0, 0]]\n",
      "[[0, 0, 0, 0], [1, 0, 0, 0], [0, 0, 0, 0], [0, 0, 0, 0]]\n",
      "[[0, 0, 0, 0], [1, 0, 0, 0], [0, 0, 0, 0], [0, 1, 0, 0]]\n",
      "[[0, 0, 1, 0], [1, 0, 0, 0], [0, 0, 0, 0], [0, 1, 0, 0]]\n",
      "[[0, 0, 1, 0], [1, 0, 0, 0], [0, 0, 0, 1], [0, 1, 0, 0]]\n"
     ]
    },
    {
     "data": {
      "text/plain": [
       "True"
      ]
     },
     "execution_count": 61,
     "metadata": {},
     "output_type": "execute_result"
    }
   ],
   "source": [
    "solve(bol,0)"
   ]
  },
  {
   "cell_type": "code",
   "execution_count": null,
   "metadata": {},
   "outputs": [],
   "source": []
  }
 ],
 "metadata": {
  "kernelspec": {
   "display_name": "Python 3",
   "language": "python",
   "name": "python3"
  },
  "language_info": {
   "codemirror_mode": {
    "name": "ipython",
    "version": 3
   },
   "file_extension": ".py",
   "mimetype": "text/x-python",
   "name": "python",
   "nbconvert_exporter": "python",
   "pygments_lexer": "ipython3",
   "version": "3.6.5"
  }
 },
 "nbformat": 4,
 "nbformat_minor": 2
}
