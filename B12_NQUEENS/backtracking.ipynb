{
 "cells": [
  {
   "cell_type": "code",
   "execution_count": 1,
   "metadata": {},
   "outputs": [],
   "source": [
    "import os"
   ]
  },
  {
   "cell_type": "code",
   "execution_count": 46,
   "metadata": {},
   "outputs": [
    {
     "data": {
      "text/plain": [
       "[[0, 0, 0, 0], [0, 0, 0, 0], [0, 0, 0, 0], [0, 0, 0, 0]]"
      ]
     },
     "execution_count": 46,
     "metadata": {},
     "output_type": "execute_result"
    }
   ],
   "source": [
    "bol=[]\n",
    "i=0;j=0\n",
    "for i in range(4):\n",
    "    ll=[]\n",
    "    for j in range(4):\n",
    "        ll.append(0)\n",
    "    bol.append(ll)\n",
    "        \n",
    "bol"
   ]
  },
  {
   "cell_type": "code",
   "execution_count": 49,
   "metadata": {},
   "outputs": [],
   "source": [
    "def issafe(arr,row,col):\n",
    "#     print('issage array',arr)\n",
    "    i=0\n",
    "    for i in range(0,col):\n",
    "#         print(arr[row][col])\n",
    "        if(arr[row][i]==1):\n",
    "            return False\n",
    "    m=row-1;n=col-1\n",
    "    while((m>=0) and (n>=0)):\n",
    "        if(arr[m][n]==1):\n",
    "            return False\n",
    "        m=m-1;n=n-1\n",
    "        \n",
    "    m=row+1;n=col-1\n",
    "    while((m<=3) and (n>=0)):\n",
    "        if(arr[m][n]==1):\n",
    "            return False\n",
    "        m=m+1;n=n-1\n",
    "#         print(\"cool\",col)\n",
    "    return True"
   ]
  },
  {
   "cell_type": "code",
   "execution_count": 50,
   "metadata": {},
   "outputs": [],
   "source": [
    "bol=[]\n",
    "i=0;j=0\n",
    "for i in range(4):\n",
    "    ll=[]\n",
    "    for j in range(4):\n",
    "        ll.append(0)\n",
    "    bol.append(ll)\n",
    "\n",
    "def solve(arr,col):\n",
    "    print(arr)\n",
    "    if(col==4):\n",
    "        return True\n",
    "    row=0\n",
    "    for row in range(4):\n",
    "        if(issafe(arr,row,col)):\n",
    "            print(row,col)\n",
    "            arr[row][col]=1\n",
    "            if(solve(arr,col+1)):\n",
    "                return True\n",
    "            arr[row][col]=0\n",
    "    return False"
   ]
  },
  {
   "cell_type": "code",
   "execution_count": 51,
   "metadata": {},
   "outputs": [
    {
     "name": "stdout",
     "output_type": "stream",
     "text": [
      "[[0, 0, 0, 0], [0, 0, 0, 0], [0, 0, 0, 0], [0, 0, 0, 0]]\n",
      "0 0\n",
      "[[1, 0, 0, 0], [0, 0, 0, 0], [0, 0, 0, 0], [0, 0, 0, 0]]\n",
      "2 1\n",
      "[[1, 0, 0, 0], [0, 0, 0, 0], [0, 1, 0, 0], [0, 0, 0, 0]]\n",
      "3 1\n",
      "[[1, 0, 0, 0], [0, 0, 0, 0], [0, 0, 0, 0], [0, 1, 0, 0]]\n",
      "1 2\n",
      "[[1, 0, 0, 0], [0, 0, 1, 0], [0, 0, 0, 0], [0, 1, 0, 0]]\n",
      "1 0\n",
      "[[0, 0, 0, 0], [1, 0, 0, 0], [0, 0, 0, 0], [0, 0, 0, 0]]\n",
      "3 1\n",
      "[[0, 0, 0, 0], [1, 0, 0, 0], [0, 0, 0, 0], [0, 1, 0, 0]]\n",
      "0 2\n",
      "[[0, 0, 1, 0], [1, 0, 0, 0], [0, 0, 0, 0], [0, 1, 0, 0]]\n",
      "2 3\n",
      "[[0, 0, 1, 0], [1, 0, 0, 0], [0, 0, 0, 1], [0, 1, 0, 0]]\n"
     ]
    },
    {
     "data": {
      "text/plain": [
       "True"
      ]
     },
     "execution_count": 51,
     "metadata": {},
     "output_type": "execute_result"
    }
   ],
   "source": [
    "solve(bol,0)"
   ]
  },
  {
   "cell_type": "code",
   "execution_count": 53,
   "metadata": {},
   "outputs": [
    {
     "name": "stdout",
     "output_type": "stream",
     "text": [
      "[0, 0, 1, 0]\n",
      "[1, 0, 0, 0]\n",
      "[0, 0, 0, 1]\n",
      "[0, 1, 0, 0]\n"
     ]
    }
   ],
   "source": [
    "print(bol[0])\n",
    "print(bol[1])\n",
    "print(bol[2])\n",
    "print(bol[3])\n"
   ]
  },
  {
   "cell_type": "code",
   "execution_count": 14,
   "metadata": {},
   "outputs": [
    {
     "data": {
      "text/plain": [
       "True"
      ]
     },
     "execution_count": 14,
     "metadata": {},
     "output_type": "execute_result"
    }
   ],
   "source": [
    "issafe(bol,3,3)"
   ]
  },
  {
   "cell_type": "code",
   "execution_count": 4,
   "metadata": {},
   "outputs": [],
   "source": [
    "def copyarr(arr):\n",
    "    bol=[]\n",
    "    i=0;j=0\n",
    "    for i in range(4):\n",
    "        ll=[]\n",
    "        for j in range(4):\n",
    "            ll.append(0)\n",
    "        bol.append(ll)\n",
    "    return bol\n"
   ]
  },
  {
   "cell_type": "code",
   "execution_count": null,
   "metadata": {},
   "outputs": [],
   "source": []
  }
 ],
 "metadata": {
  "kernelspec": {
   "display_name": "Python 3",
   "language": "python",
   "name": "python3"
  },
  "language_info": {
   "codemirror_mode": {
    "name": "ipython",
    "version": 3
   },
   "file_extension": ".py",
   "mimetype": "text/x-python",
   "name": "python",
   "nbconvert_exporter": "python",
   "pygments_lexer": "ipython3",
   "version": "3.6.5"
  }
 },
 "nbformat": 4,
 "nbformat_minor": 2
}
